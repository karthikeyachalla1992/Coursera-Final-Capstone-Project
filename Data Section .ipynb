{
 "cells": [
  {
   "cell_type": "markdown",
   "metadata": {},
   "source": [
    "# Battle of Neighborhoods - Data Section "
   ]
  },
  {
   "cell_type": "markdown",
   "metadata": {},
   "source": [
    "## Toronto Neighborhood Data\n",
    "\n",
    "The Toronto neighborhood data will be oibtained from : \n",
    "https://en.wikipedia.org/wiki/List_of_postal_codes_of_Canada:_M\n",
    "\n",
    "The Toronto secondary school data will be obtained form: https://en.wikipedia.org/wiki/List_of_secondary_schools_in_the_Toronto_District_School_Board\n",
    "\n",
    "Also, the data set with Toronto neighborhood spatial data used in Week 3 Toronto data analysis will also be used.\n",
    "https://github.com/karthikeyachalla1992/Toronto-Data-Project/blob/master/GC.csv"
   ]
  },
  {
   "cell_type": "markdown",
   "metadata": {},
   "source": [
    "## Data obtained from Four Square API\n",
    "\n",
    "Foursquare is a location data provider with information on venues nearby a neighborhood. It provides:\n",
    "\n",
    "a) Neighborhood\n",
    "<br> b) Neighborhood latitude\n",
    "<br>c) Neighborhood longitude\n",
    "<br>d) Venue\n",
    "<br>e) Name of the venue\n",
    "<br>f) Venue latittude\n",
    "<br>g) Vennue longitude\n",
    "<br>h) Venue category"
   ]
  }
 ],
 "metadata": {
  "kernelspec": {
   "display_name": "Python 3",
   "language": "python",
   "name": "python3"
  },
  "language_info": {
   "codemirror_mode": {
    "name": "ipython",
    "version": 3
   },
   "file_extension": ".py",
   "mimetype": "text/x-python",
   "name": "python",
   "nbconvert_exporter": "python",
   "pygments_lexer": "ipython3",
   "version": "3.7.6"
  }
 },
 "nbformat": 4,
 "nbformat_minor": 4
}
