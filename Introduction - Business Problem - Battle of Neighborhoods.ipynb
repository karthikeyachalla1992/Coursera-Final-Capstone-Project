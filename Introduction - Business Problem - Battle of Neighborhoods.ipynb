{
 "cells": [
  {
   "cell_type": "markdown",
   "metadata": {},
   "source": [
    "# The Battle of Neighborhoods - Toronto Data Analysis\n",
    "\n"
   ]
  },
  {
   "cell_type": "markdown",
   "metadata": {},
   "source": [
    "## Introduction:\n",
    "\n",
    "The purpose of this project is to help the people wanting to immigrate to major cities of the world with reseearch on good neighborhoods and ultimately make a smart decision.\n",
    "\n",
    "Essentially this project will provide a detailed infomration of the neighborhoods in a city including the various catergorical venues including yoga centers, coffee shops, restraunts etc. \n",
    "\n",
    "This project also aims at providing the list of secondary schools and other information on schools like pass percentage, population etc. \n",
    "\n",
    "Assuming that an immigrant wants to setup a coffee shop business, this project will be providing with a list of neighborhoods with least number of 'coffee shops' for someone to setup as a business.\n",
    "\n",
    "In totality it will help people get an awareness on a new city. It will provide a compartive analysis of various neighbor hoods for settlement and opening up a particular business."
   ]
  },
  {
   "cell_type": "markdown",
   "metadata": {},
   "source": [
    "##  Problem Statement:\n",
    "\n",
    "The purpose of this project is to provide information on:\n",
    "\n",
    "a) Good neighborhoods with accessible venues\n",
    "b) Good secondary school location and information\n",
    "c) Good neighborhood to setup a Coffee Shop"
   ]
  },
  {
   "cell_type": "markdown",
   "metadata": {},
   "source": [
    "## Location to be analyzed:\n",
    "\n",
    "Toronto, CA is a very poupular destination for immigration for staying and setting up business. Therefore, for this project the Toronto city, its neighborhoods, school districts and various categorical venues will be used."
   ]
  },
  {
   "cell_type": "markdown",
   "metadata": {},
   "source": [
    "## K-Means clustering\n",
    "\n",
    "The similarties or dissimilarties between two nieghborhoods in a city could be visualized by segmenting them into various clusters utilizing the k-means clustering machine learning algorithm. So, this project aims at clustering and making sense of data obtained form this clustering technique"
   ]
  },
  {
   "cell_type": "markdown",
   "metadata": {},
   "source": [
    "##  Location Data Analysis - Four Square API:\n",
    "\n",
    "Forsquare is one of the location data providers. A developer account has been created and credentials have been obtained. Due to a limited number of accesses for this developer account, there will be some restrictions on the radius and count of venues search. \n"
   ]
  },
  {
   "cell_type": "markdown",
   "metadata": {},
   "source": [
    "## Data Analysis and Libraries:\n",
    "\n",
    "Along with the Four Square API, Pyhton and its associated libraries and packages will be used for data analysis and visualization.\n",
    "\n",
    "Pandas: Dataframe creation and manipulation\n",
    "Numpy : Mathematical Analysis\n",
    "Matplotlib: Python plotting module\n",
    "Folium: Interactive leaflet map creation\n",
    "Scikit Learn: Implementing k-means clustering algorithm\n",
    "JSON: Handling JSON files\n",
    "Geocoder: Retrieving location data.\n",
    "Beautiful Soup and Requests: Webscrapping and data acquisition \n"
   ]
  }
 ],
 "metadata": {
  "kernelspec": {
   "display_name": "Python 3",
   "language": "python",
   "name": "python3"
  },
  "language_info": {
   "codemirror_mode": {
    "name": "ipython",
    "version": 3
   },
   "file_extension": ".py",
   "mimetype": "text/x-python",
   "name": "python",
   "nbconvert_exporter": "python",
   "pygments_lexer": "ipython3",
   "version": "3.7.6"
  }
 },
 "nbformat": 4,
 "nbformat_minor": 4
}
